{
 "cells": [
  {
   "cell_type": "code",
   "execution_count": 3,
   "id": "76b4234c-71ba-4872-b460-0a01748af0a4",
   "metadata": {},
   "outputs": [],
   "source": [
    "# from fmu.config import oyaml as yaml # TODO: Remove from docs\n",
    "from fmu.tools.sensitivities import DesignMatrix, excel2dict_design"
   ]
  },
  {
   "cell_type": "code",
   "execution_count": 7,
   "id": "76c51a13-d13d-49a6-8a63-48082e08b0cc",
   "metadata": {},
   "outputs": [
    {
     "ename": "ValueError",
     "evalue": "No general_input sheet provided in Excel file <_io.BufferedReader name='sensitivity_test.xlsx'> ",
     "output_type": "error",
     "traceback": [
      "\u001b[0;31m---------------------------------------------------------------------------\u001b[0m",
      "\u001b[0;31mValueError\u001b[0m                                Traceback (most recent call last)",
      "Cell \u001b[0;32mIn[7], line 2\u001b[0m\n\u001b[1;32m      1\u001b[0m \u001b[38;5;28;01mwith\u001b[39;00m \u001b[38;5;28mopen\u001b[39m(\u001b[38;5;124m'\u001b[39m\u001b[38;5;124msensitivity_test.xlsx\u001b[39m\u001b[38;5;124m'\u001b[39m, \u001b[38;5;124m\"\u001b[39m\u001b[38;5;124mrb\u001b[39m\u001b[38;5;124m\"\u001b[39m) \u001b[38;5;28;01mas\u001b[39;00m input_file:\n\u001b[0;32m----> 2\u001b[0m     input_dict \u001b[38;5;241m=\u001b[39m \u001b[43mexcel2dict_design\u001b[49m\u001b[43m(\u001b[49m\u001b[43minput_file\u001b[49m\u001b[43m)\u001b[49m\n",
      "File \u001b[0;32m~/envs/arm/.venvfmu/lib/python3.10/site-packages/fmu/tools/sensitivities/_excel2dict.py:35\u001b[0m, in \u001b[0;36mexcel2dict_design\u001b[0;34m(input_filename, sheetnames)\u001b[0m\n\u001b[1;32m     21\u001b[0m \u001b[38;5;250m\u001b[39m\u001b[38;5;124;03m\"\"\"Read excel file with input to design setup\u001b[39;00m\n\u001b[1;32m     22\u001b[0m \u001b[38;5;124;03mCurrently only specification of\u001b[39;00m\n\u001b[1;32m     23\u001b[0m \u001b[38;5;124;03monebyone design is implemented\u001b[39;00m\n\u001b[0;32m   (...)\u001b[0m\n\u001b[1;32m     32\u001b[0m \u001b[38;5;124;03m    OrderedDict on format for DesignMatrix.generate\u001b[39;00m\n\u001b[1;32m     33\u001b[0m \u001b[38;5;124;03m\"\"\"\u001b[39;00m\n\u001b[1;32m     34\u001b[0m \u001b[38;5;28;01mif\u001b[39;00m \u001b[38;5;129;01mnot\u001b[39;00m sheetnames \u001b[38;5;129;01mor\u001b[39;00m \u001b[38;5;124m\"\u001b[39m\u001b[38;5;124mgeneral_input\u001b[39m\u001b[38;5;124m\"\u001b[39m \u001b[38;5;129;01mnot\u001b[39;00m \u001b[38;5;129;01min\u001b[39;00m sheetnames:\n\u001b[0;32m---> 35\u001b[0m     gen_input_sheet \u001b[38;5;241m=\u001b[39m \u001b[43m_find_geninput_sheetname\u001b[49m\u001b[43m(\u001b[49m\u001b[43minput_filename\u001b[49m\u001b[43m)\u001b[49m\n\u001b[1;32m     36\u001b[0m \u001b[38;5;28;01melse\u001b[39;00m:\n\u001b[1;32m     37\u001b[0m     gen_input_sheet \u001b[38;5;241m=\u001b[39m sheetnames[\u001b[38;5;124m\"\u001b[39m\u001b[38;5;124mgeneral_input\u001b[39m\u001b[38;5;124m\"\u001b[39m]\n",
      "File \u001b[0;32m~/envs/arm/.venvfmu/lib/python3.10/site-packages/fmu/tools/sensitivities/_excel2dict.py:92\u001b[0m, in \u001b[0;36m_find_geninput_sheetname\u001b[0;34m(input_filename)\u001b[0m\n\u001b[1;32m     86\u001b[0m     \u001b[38;5;28;01mraise\u001b[39;00m \u001b[38;5;167;01mValueError\u001b[39;00m(\n\u001b[1;32m     87\u001b[0m         \u001b[38;5;124m\"\u001b[39m\u001b[38;5;124mMore than one sheet with general input\u001b[39m\u001b[38;5;124m\"\u001b[39m\n\u001b[1;32m     88\u001b[0m         \u001b[38;5;124m\"\u001b[39m\u001b[38;5;124mSheetnames are \u001b[39m\u001b[38;5;132;01m{}\u001b[39;00m\u001b[38;5;124m \u001b[39m\u001b[38;5;124m\"\u001b[39m\u001b[38;5;241m.\u001b[39mformat(general_input_sheet)\n\u001b[1;32m     89\u001b[0m     )\n\u001b[1;32m     91\u001b[0m \u001b[38;5;28;01mif\u001b[39;00m \u001b[38;5;129;01mnot\u001b[39;00m general_input_sheet:\n\u001b[0;32m---> 92\u001b[0m     \u001b[38;5;28;01mraise\u001b[39;00m \u001b[38;5;167;01mValueError\u001b[39;00m(\n\u001b[1;32m     93\u001b[0m         \u001b[38;5;124mf\u001b[39m\u001b[38;5;124m\"\u001b[39m\u001b[38;5;124mNo general_input sheet provided in Excel file \u001b[39m\u001b[38;5;132;01m{\u001b[39;00minput_filename\u001b[38;5;132;01m}\u001b[39;00m\u001b[38;5;124m \u001b[39m\u001b[38;5;124m\"\u001b[39m\n\u001b[1;32m     94\u001b[0m     )\n\u001b[1;32m     96\u001b[0m \u001b[38;5;28;01mreturn\u001b[39;00m general_input_sheet[\u001b[38;5;241m0\u001b[39m]\n",
      "\u001b[0;31mValueError\u001b[0m: No general_input sheet provided in Excel file <_io.BufferedReader name='sensitivity_test.xlsx'> "
     ]
    }
   ],
   "source": [
    "# TODO: Update docs to add \"rb\"\n",
    "with open('sensitivity_test.xlsx', \"rb\") as input_file:\n",
    "    input_dict = excel2dict_design(input_file)"
   ]
  },
  {
   "cell_type": "code",
   "execution_count": null,
   "id": "c8883a94-fd88-4fd9-9c07-9d7d6cab4cd0",
   "metadata": {},
   "outputs": [],
   "source": []
  }
 ],
 "metadata": {
  "kernelspec": {
   "display_name": "Python 3 (ipykernel)",
   "language": "python",
   "name": "python3"
  },
  "language_info": {
   "codemirror_mode": {
    "name": "ipython",
    "version": 3
   },
   "file_extension": ".py",
   "mimetype": "text/x-python",
   "name": "python",
   "nbconvert_exporter": "python",
   "pygments_lexer": "ipython3",
   "version": "3.10.13"
  }
 },
 "nbformat": 4,
 "nbformat_minor": 5
}
