{
 "cells": [
  {
   "cell_type": "code",
   "execution_count": 6,
   "id": "4a200d6f-ee82-42aa-b4a3-acfb3af64d05",
   "metadata": {},
   "outputs": [
    {
     "name": "stdout",
     "output_type": "stream",
     "text": [
      "The autoreload extension is already loaded. To reload it, use:\n",
      "  %reload_ext autoreload\n"
     ]
    }
   ],
   "source": [
    "%load_ext autoreload\n",
    "%autoreload 2"
   ]
  },
  {
   "cell_type": "code",
   "execution_count": 7,
   "id": "76b4234c-71ba-4872-b460-0a01748af0a4",
   "metadata": {},
   "outputs": [],
   "source": [
    "# from fmu.config import oyaml as yaml # TODO: Remove from docs\n",
    "from fmu.tools.sensitivities import DesignMatrix, excel2dict_design\n",
    "import pandas as pd"
   ]
  },
  {
   "cell_type": "code",
   "execution_count": 10,
   "id": "9b6a5fe6-39b7-4787-9a04-70d3026dee5f",
   "metadata": {},
   "outputs": [],
   "source": [
    "generalinput = pd.read_excel(\n",
    "    \"sensitivity_test.xlsx\", \"general_input\", header=None, index_col=0, engine=\"openpyxl\"\n",
    ")"
   ]
  },
  {
   "cell_type": "code",
   "execution_count": 14,
   "id": "99f4a318-9e98-4e1d-b4c3-c5dd85400523",
   "metadata": {},
   "outputs": [
    {
     "data": {
      "text/plain": [
       "False"
      ]
     },
     "execution_count": 14,
     "metadata": {},
     "output_type": "execute_result"
    }
   ],
   "source": [
    "generalinput.reset_index().empty"
   ]
  },
  {
   "cell_type": "code",
   "execution_count": 80,
   "id": "76c51a13-d13d-49a6-8a63-48082e08b0cc",
   "metadata": {},
   "outputs": [
    {
     "name": "stdout",
     "output_type": "stream",
     "text": [
      "   sensname  type  param_name\n",
      "0  rms_seed  seed         NaN\n"
     ]
    }
   ],
   "source": [
    "# TODO: Update docs to add \"rb\"\n",
    "with open('sensitivity_test.xlsx', \"rb\") as input_file:\n",
    "    input_dict = excel2dict_design(input_file)"
   ]
  },
  {
   "cell_type": "code",
   "execution_count": 83,
   "id": "c8883a94-fd88-4fd9-9c07-9d7d6cab4cd0",
   "metadata": {},
   "outputs": [],
   "source": [
    "design = DesignMatrix()"
   ]
  },
  {
   "cell_type": "code",
   "execution_count": 84,
   "id": "1bb300bd-12c1-475f-b395-036a59fce882",
   "metadata": {},
   "outputs": [
    {
     "name": "stdout",
     "output_type": "stream",
     "text": [
      "OrderedDict([('designtype', 'onebyone'), ('seeds', 'default'), ('repeats', 10), ('distribution_seed', None), ('background', None), ('defaultvalues', OrderedDict()), ('sensitivities', OrderedDict([('rms_seed', OrderedDict([('seedname', 'RMS_SEED'), ('senstype', 'seed'), ('parameters', None)]))]))])\n",
      "**=  10\n",
      "** seeds:  default\n",
      "Added sensitivity : rms_seed\n"
     ]
    }
   ],
   "source": [
    "design.generate(input_dict)"
   ]
  },
  {
   "cell_type": "code",
   "execution_count": 85,
   "id": "d9474dd0-8c12-4296-a51b-5f257da4869b",
   "metadata": {},
   "outputs": [
    {
     "name": "stdout",
     "output_type": "stream",
     "text": [
      "A total of 10 realizations were generated\n",
      "Designmatrix written to design01.xlsx\n"
     ]
    }
   ],
   "source": [
    "design.to_xlsx(\"design01.xlsx\")"
   ]
  },
  {
   "cell_type": "code",
   "execution_count": null,
   "id": "449f6e37-76d4-4679-ac97-f4d29523761f",
   "metadata": {},
   "outputs": [],
   "source": []
  }
 ],
 "metadata": {
  "kernelspec": {
   "display_name": "Python 3 (ipykernel)",
   "language": "python",
   "name": "python3"
  },
  "language_info": {
   "codemirror_mode": {
    "name": "ipython",
    "version": 3
   },
   "file_extension": ".py",
   "mimetype": "text/x-python",
   "name": "python",
   "nbconvert_exporter": "python",
   "pygments_lexer": "ipython3",
   "version": "3.10.13"
  }
 },
 "nbformat": 4,
 "nbformat_minor": 5
}
